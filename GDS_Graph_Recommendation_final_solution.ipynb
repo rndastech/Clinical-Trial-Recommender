{
  "nbformat": 4,
  "nbformat_minor": 0,
  "metadata": {
    "colab": {
      "provenance": []
    },
    "kernelspec": {
      "name": "python3",
      "display_name": "Python 3"
    },
    "language_info": {
      "name": "python"
    }
  },
  "cells": [
    {
      "cell_type": "code",
      "source": [
        "!pip install neo4j"
      ],
      "metadata": {
        "colab": {
          "base_uri": "https://localhost:8080/"
        },
        "id": "7jCbR2bsA4sd",
        "outputId": "27fcd4e6-709e-4674-bcf0-2438ee334a94"
      },
      "execution_count": 2,
      "outputs": [
        {
          "output_type": "stream",
          "name": "stdout",
          "text": [
            "Collecting neo4j\n",
            "  Downloading neo4j-5.27.0-py3-none-any.whl.metadata (5.9 kB)\n",
            "Requirement already satisfied: pytz in /usr/local/lib/python3.11/dist-packages (from neo4j) (2024.2)\n",
            "Downloading neo4j-5.27.0-py3-none-any.whl (301 kB)\n",
            "\u001b[?25l   \u001b[90m━━━━━━━━━━━━━━━━━━━━━━━━━━━━━━━━━━━━━━━━\u001b[0m \u001b[32m0.0/301.7 kB\u001b[0m \u001b[31m?\u001b[0m eta \u001b[36m-:--:--\u001b[0m\r\u001b[2K   \u001b[90m━━━━━━━━━━━━━━━━━━━━━━━━━━━━━━━━━━━━━━━━\u001b[0m \u001b[32m301.7/301.7 kB\u001b[0m \u001b[31m10.6 MB/s\u001b[0m eta \u001b[36m0:00:00\u001b[0m\n",
            "\u001b[?25hInstalling collected packages: neo4j\n",
            "Successfully installed neo4j-5.27.0\n"
          ]
        }
      ]
    },
    {
      "cell_type": "code",
      "execution_count": 37,
      "metadata": {
        "colab": {
          "base_uri": "https://localhost:8080/"
        },
        "id": "OjK2w-y5Apys",
        "outputId": "d96e4dd3-bac0-419e-8884-11a8874d2068"
      },
      "outputs": [
        {
          "output_type": "stream",
          "name": "stdout",
          "text": [
            "Nodes in the database:\n",
            "<Node element_id='4:4e1a6d5f-d162-4464-a50b-c8bfba1745ea:3152' labels=frozenset({'SubjectNode'}) properties={'name': 'NCT00752622'}>\n",
            "<Node element_id='4:4e1a6d5f-d162-4464-a50b-c8bfba1745ea:3153' labels=frozenset({'ObjectNode'}) properties={'name': \"'Crohn's Disease'\"}>\n",
            "<Node element_id='4:4e1a6d5f-d162-4464-a50b-c8bfba1745ea:3154' labels=frozenset({'ObjectNode'}) properties={'name': \"'Infliximab'\"}>\n",
            "<Node element_id='4:4e1a6d5f-d162-4464-a50b-c8bfba1745ea:3155' labels=frozenset({'ObjectNode'}) properties={'name': \"'CDAI score change'\"}>\n",
            "<Node element_id='4:4e1a6d5f-d162-4464-a50b-c8bfba1745ea:3156' labels=frozenset({'ObjectNode'}) properties={'name': \"'Harvey-Bradshaw Index'\"}>\n",
            "<Node element_id='4:4e1a6d5f-d162-4464-a50b-c8bfba1745ea:3157' labels=frozenset({'ObjectNode'}) properties={'name': \" 'Disease progression/lack of response'\"}>\n",
            "<Node element_id='4:4e1a6d5f-d162-4464-a50b-c8bfba1745ea:3158' labels=frozenset({'SubjectNode'}) properties={'name': 'NCT02177422'}>\n",
            "<Node element_id='4:4e1a6d5f-d162-4464-a50b-c8bfba1745ea:3160' labels=frozenset({'ObjectNode'}) properties={'name': \"'Telmisartan'\"}>\n",
            "<Node element_id='4:4e1a6d5f-d162-4464-a50b-c8bfba1745ea:3161' labels=frozenset({'ObjectNode'}) properties={'name': \"'Goal blood pressure'\"}>\n",
            "<Node element_id='4:4e1a6d5f-d162-4464-a50b-c8bfba1745ea:3162' labels=frozenset({'ObjectNode'}) properties={'name': \"Heart rate'\"}>\n"
          ]
        }
      ],
      "source": [
        "from neo4j import GraphDatabase\n",
        "\n",
        "# Connection details\n",
        "URI = \"neo4j://38.242.232.192:7687\"\n",
        "AUTH = (\"nest\", \"neurons-newbie\")\n",
        "\n",
        "# Query to view existing nodes\n",
        "query = \"\"\"\n",
        "MATCH (n)\n",
        "RETURN n\n",
        "LIMIT 10\n",
        "\"\"\"\n",
        "\n",
        "# Connect to the database and run the query\n",
        "try:\n",
        "    with GraphDatabase.driver(URI, auth=AUTH) as driver:\n",
        "        with driver.session() as session:\n",
        "            result = session.run(query)\n",
        "\n",
        "            # Process and print the nodes\n",
        "            print(\"Nodes in the database:\")\n",
        "            for record in result:\n",
        "                print(record[\"n\"])  # Access the node data\n",
        "except Exception as e:\n",
        "    print(f\"An error occurred: {e}\")"
      ]
    },
    {
      "cell_type": "code",
      "source": [
        "# Queries to count nodes and relationships\n",
        "query_nodes = \"MATCH (n) RETURN COUNT(n) AS TotalNodes;\"\n",
        "query_relationships = \"MATCH ()-[r]->() RETURN COUNT(r) AS TotalRelationships;\"\n",
        "\n",
        "try:\n",
        "    with GraphDatabase.driver(URI, auth=AUTH) as driver:\n",
        "        with driver.session() as session:\n",
        "            # Count nodes\n",
        "            result_nodes = session.run(query_nodes)\n",
        "            for record in result_nodes:\n",
        "                print(\"Total Nodes in the Database:\", record[\"TotalNodes\"])\n",
        "\n",
        "            # Count relationships\n",
        "            result_relationships = session.run(query_relationships)\n",
        "            for record in result_relationships:\n",
        "                print(\"Total Relationships in the Database:\", record[\"TotalRelationships\"])\n",
        "except Exception as e:\n",
        "    print(f\"An error occurred: {e}\")\n"
      ],
      "metadata": {
        "colab": {
          "base_uri": "https://localhost:8080/"
        },
        "id": "nwt9qd-LAxjL",
        "outputId": "17bab97a-29b2-4f42-bbd7-c7871101c826"
      },
      "execution_count": 38,
      "outputs": [
        {
          "output_type": "stream",
          "name": "stdout",
          "text": [
            "Total Nodes in the Database: 59\n",
            "Total Relationships in the Database: 59\n"
          ]
        }
      ]
    },
    {
      "cell_type": "code",
      "source": [
        "try:\n",
        "    with GraphDatabase.driver(URI, auth=AUTH) as driver:\n",
        "        with driver.session() as session:\n",
        "            result = session.run(\"CALL gds.graph.list()\")\n",
        "\n",
        "            # Process and print the results\n",
        "            for record in result:\n",
        "                print(record)\n",
        "except Exception as e:\n",
        "    print(f\"An error occurred: {e}\")"
      ],
      "metadata": {
        "colab": {
          "base_uri": "https://localhost:8080/"
        },
        "id": "URrQaRgYDQ5Z",
        "outputId": "5e65b768-5345-441c-c710-c9fb65b330d6"
      },
      "execution_count": 8,
      "outputs": [
        {
          "output_type": "stream",
          "name": "stderr",
          "text": [
            "WARNING:neo4j.notifications:Received notification from DBMS server: {severity: WARNING} {code: Neo.ClientNotification.Statement.FeatureDeprecationWarning} {category: DEPRECATION} {title: This feature is deprecated and will be removed in future versions.} {description: The query used a deprecated field from a procedure. ('schema' returned by 'gds.graph.list' is deprecated.)} {position: line: 1, column: 1, offset: 0} for query: 'CALL gds.graph.list()'\n"
          ]
        }
      ]
    },
    {
      "cell_type": "code",
      "source": [
        "# Query to fetch distinct labels\n",
        "def fetch_labels(tx):\n",
        "    query = \"\"\"\n",
        "    MATCH (n) RETURN DISTINCT labels(n) AS nodeLabels\n",
        "    \"\"\"\n",
        "    result = tx.run(query)\n",
        "    return [record[\"nodeLabels\"] for record in result]\n",
        "\n",
        "# Main function to connect and fetch labels\n",
        "def main():\n",
        "    driver = GraphDatabase.driver(URI, auth=AUTH)\n",
        "\n",
        "    try:\n",
        "        with driver.session() as session:\n",
        "            labels = session.read_transaction(fetch_labels)\n",
        "            print(\"Distinct Labels in the Database:\")\n",
        "            for label in labels:\n",
        "                print(label)\n",
        "    except Exception as e:\n",
        "        print(f\"Error: {e}\")\n",
        "    finally:\n",
        "        driver.close()\n",
        "\n",
        "if __name__ == \"__main__\":\n",
        "    main()\n"
      ],
      "metadata": {
        "colab": {
          "base_uri": "https://localhost:8080/"
        },
        "id": "BrBoDyN1GXmf",
        "outputId": "bdc32f5c-91b2-4ef6-a6ab-525e06bccf62"
      },
      "execution_count": 39,
      "outputs": [
        {
          "output_type": "stream",
          "name": "stdout",
          "text": [
            "Distinct Labels in the Database:\n",
            "['SubjectNode']\n",
            "['ObjectNode']\n"
          ]
        },
        {
          "output_type": "stream",
          "name": "stderr",
          "text": [
            "<ipython-input-39-8feb4cda7f53>:15: DeprecationWarning: read_transaction has been renamed to execute_read\n",
            "  labels = session.read_transaction(fetch_labels)\n"
          ]
        }
      ]
    },
    {
      "cell_type": "code",
      "source": [
        "def fetch_relationship_types(tx):\n",
        "    query = \"\"\"\n",
        "    CALL db.relationshipTypes() YIELD relationshipType\n",
        "    RETURN relationshipType\n",
        "    \"\"\"\n",
        "    result = tx.run(query)\n",
        "    return [record[\"relationshipType\"] for record in result]\n",
        "\n",
        "# Main function to connect and fetch relationship types\n",
        "def main():\n",
        "    driver = GraphDatabase.driver(URI, auth=AUTH)\n",
        "\n",
        "    try:\n",
        "        with driver.session() as session:\n",
        "            relationships = session.read_transaction(fetch_relationship_types)\n",
        "            print(\"Distinct Relationship Types in the Database:\")\n",
        "            for relationship in relationships:\n",
        "                print(relationship)\n",
        "    except Exception as e:\n",
        "        print(f\"Error: {e}\")\n",
        "    finally:\n",
        "        driver.close()\n",
        "\n",
        "if __name__ == \"__main__\":\n",
        "    main()"
      ],
      "metadata": {
        "colab": {
          "base_uri": "https://localhost:8080/"
        },
        "id": "E2F145EuKLkK",
        "outputId": "bab9670f-0f6d-4ead-e65b-15a2aa889336"
      },
      "execution_count": 40,
      "outputs": [
        {
          "output_type": "stream",
          "name": "stdout",
          "text": [
            "Distinct Relationship Types in the Database:\n",
            "INVOLVES\n",
            "EVALUATES\n",
            "MEASURES_PRIMARY\n",
            "MEASURES_SECONDARY\n",
            "HAS_CRITERIA\n",
            "${relationship_type}\n"
          ]
        },
        {
          "output_type": "stream",
          "name": "stderr",
          "text": [
            "<ipython-input-40-21312d34543f>:15: DeprecationWarning: read_transaction has been renamed to execute_read\n",
            "  relationships = session.read_transaction(fetch_relationship_types)\n"
          ]
        }
      ]
    },
    {
      "cell_type": "code",
      "source": [
        "\n"
      ],
      "metadata": {
        "id": "YdBxCUX9KKj6"
      },
      "execution_count": null,
      "outputs": []
    },
    {
      "cell_type": "code",
      "source": [
        "def is_graph_projected(tx):\n",
        "    query = \"\"\"\n",
        "    CALL gds.graph.exists('clinicalTrialsGraph')\n",
        "    YIELD exists\n",
        "    RETURN exists\n",
        "    \"\"\"\n",
        "    result = tx.run(query)\n",
        "    return result.single()[\"exists\"]\n",
        "\n",
        "# Function to project the graph\n",
        "def project_graph(tx):\n",
        "    query = \"\"\"\n",
        "    CALL gds.graph.project(\n",
        "        'clinicalTrialsGraph',\n",
        "        ['SubjectNode', 'ObjectNode'],  -- Use the distinct labels\n",
        "        {\n",
        "            INVOLVES: {},\n",
        "            EVALUATES: {},\n",
        "            MEASURES_PRIMARY: {},\n",
        "            MEASURES_SECONDARY: {},\n",
        "            HAS_CRITERIA: {}\n",
        "        }  -- Use the distinct relationship types\n",
        "    )\n",
        "    \"\"\"\n",
        "    tx.run(query)\n",
        "\n",
        "# Function to run node similarity\n",
        "def find_similar_trials(tx, trial_id):\n",
        "    query = f\"\"\"\n",
        "    CALL gds.nodeSimilarity.stream('clinicalTrialsGraph')\n",
        "    YIELD node1, node2, similarity\n",
        "    WHERE gds.util.asNode(node1).id = '{trial_id}'\n",
        "    RETURN gds.util.asNode(node2).id AS similarTrial, similarity\n",
        "    ORDER BY similarity DESC\n",
        "    LIMIT 10\n",
        "    \"\"\"\n",
        "    result = tx.run(query)\n",
        "    return [{\"trial\": record[\"similarTrial\"], \"similarity\": record[\"similarity\"]} for record in result]\n",
        "\n",
        "# Main script\n",
        "def main():\n",
        "    driver = GraphDatabase.driver(URI, auth=AUTH)\n",
        "\n",
        "    with driver.session() as session:\n",
        "        # Check if the graph is already projected\n",
        "        if not session.execute_read(is_graph_projected):  # Use `execute_read` for compatibility\n",
        "            print(\"Graph not projected. Projecting now...\")\n",
        "            session.execute_write(project_graph)  # Use `execute_write` for compatibility\n",
        "        else:\n",
        "            print(\"Graph is already projected.\")\n",
        "\n",
        "        # Get input from user\n",
        "        trial_id = input(\"Enter the trial ID (e.g., NCT00752622): \")\n",
        "\n",
        "        # Find similar trials\n",
        "        print(f\"Finding trials similar to {trial_id}...\")\n",
        "        similar_trials = session.execute_read(find_similar_trials, trial_id)\n",
        "\n",
        "        if similar_trials:\n",
        "            print(\"Top 10 similar trials:\")\n",
        "            for i, trial in enumerate(similar_trials, 1):\n",
        "                print(f\"{i}. Trial ID: {trial['trial']}, Similarity: {trial['similarity']:.4f}\")\n",
        "        else:\n",
        "            print(\"No similar trials found.\")\n",
        "\n",
        "    driver.close()\n",
        "\n",
        "if __name__ == \"__main__\":\n",
        "    main()"
      ],
      "metadata": {
        "colab": {
          "base_uri": "https://localhost:8080/"
        },
        "id": "43Jv8lOCDBcW",
        "outputId": "0c3f47c9-ea84-4531-de3e-d68483c15418"
      },
      "execution_count": 42,
      "outputs": [
        {
          "output_type": "stream",
          "name": "stdout",
          "text": [
            "Graph is already projected.\n",
            "Enter the trial ID (e.g., NCT00752622): NCT01399125\n",
            "Finding trials similar to NCT01399125...\n",
            "No similar trials found.\n"
          ]
        }
      ]
    },
    {
      "cell_type": "code",
      "source": [
        "def main():\n",
        "    try:\n",
        "        driver = GraphDatabase.driver(URI, auth=AUTH)\n",
        "        with driver.session() as session:\n",
        "            print(\"Connected to Neo4j successfully!\")\n",
        "            # Run your queries here...\n",
        "    except ServiceUnavailable as e:\n",
        "        print(f\"Failed to connect to Neo4j: {e}\")\n",
        "    finally:\n",
        "        driver.close()\n",
        "\n",
        "if __name__ == \"__main__\":\n",
        "    main()\n"
      ],
      "metadata": {
        "colab": {
          "base_uri": "https://localhost:8080/"
        },
        "id": "SkLP662lE52t",
        "outputId": "8132a0c1-109c-4c6c-dee9-b825f1b9169a"
      },
      "execution_count": 27,
      "outputs": [
        {
          "output_type": "stream",
          "name": "stdout",
          "text": [
            "Connected to Neo4j successfully!\n"
          ]
        }
      ]
    },
    {
      "cell_type": "code",
      "source": [
        "# Function to fetch all nodes in the graph\n",
        "def fetch_nodes(tx):\n",
        "    query = \"\"\"\n",
        "    MATCH (n)\n",
        "    RETURN labels(n) AS labels, n.name AS name\n",
        "    \"\"\"\n",
        "    result = tx.run(query)\n",
        "    return [{\"labels\": record[\"labels\"], \"name\": record[\"name\"]} for record in result]\n",
        "\n",
        "# Main function to connect to Neo4j and retrieve nodes\n",
        "def main():\n",
        "    driver = GraphDatabase.driver(URI, auth=AUTH)\n",
        "\n",
        "    try:\n",
        "        with driver.session() as session:\n",
        "            nodes = session.read_transaction(fetch_nodes)\n",
        "            if nodes:\n",
        "                print(\"Nodes present in the graph:\")\n",
        "                for node in nodes:\n",
        "                    print(f\"Labels: {node['labels']}, Name: {node['name']}\")\n",
        "            else:\n",
        "                print(\"No nodes found in the graph.\")\n",
        "    except Exception as e:\n",
        "        print(f\"An error occurred: {e}\")\n",
        "    finally:\n",
        "        driver.close()\n",
        "\n",
        "if __name__ == \"__main__\":\n",
        "    main()"
      ],
      "metadata": {
        "colab": {
          "base_uri": "https://localhost:8080/"
        },
        "id": "VSY8hjFZI5d6",
        "outputId": "b6463cdc-cb00-4552-dde7-b570031e98d7"
      },
      "execution_count": 51,
      "outputs": [
        {
          "output_type": "stream",
          "name": "stdout",
          "text": [
            "Nodes present in the graph:\n",
            "Labels: ['SubjectNode'], Name: NCT00752622\n",
            "Labels: ['ObjectNode'], Name: 'Crohn's Disease'\n",
            "Labels: ['ObjectNode'], Name: 'Infliximab'\n",
            "Labels: ['ObjectNode'], Name: 'CDAI score change'\n",
            "Labels: ['ObjectNode'], Name: 'Harvey-Bradshaw Index'\n",
            "Labels: ['ObjectNode'], Name:  'Disease progression/lack of response'\n",
            "Labels: ['SubjectNode'], Name: NCT02177422\n",
            "Labels: ['ObjectNode'], Name: 'Telmisartan'\n",
            "Labels: ['ObjectNode'], Name: 'Goal blood pressure'\n",
            "Labels: ['ObjectNode'], Name: Heart rate'\n",
            "Labels: ['ObjectNode'], Name: Mean diastolic ≥ 95 mmHg'\n",
            "Labels: ['SubjectNode'], Name: NCT06082986\n",
            "Labels: ['ObjectNode'], Name: 'Endoscopic Remission'\n",
            "Labels: ['ObjectNode'], Name: 'Clinical Remission'\n",
            "Labels: ['ObjectNode'], Name:  'Bio-naive Participants'\n",
            "Labels: ['SubjectNode'], Name: NCT01277822\n",
            "Labels: ['ObjectNode'], Name: 'Losartan + Amlodipine'\n",
            "Labels: ['ObjectNode'], Name: 'MSDBP change at Week 8'\n",
            "Labels: ['ObjectNode'], Name: 'Percentage of participants achieving target blood pressure'\n",
            "Labels: ['ObjectNode'], Name:  'Target BP: sitDBP <90mmHg or sitSBP <140mmHg'\n",
            "Labels: ['SubjectNode'], Name: NCT01655186\n",
            "Labels: ['ObjectNode'], Name: 'Bardoxolone Methyl'\n",
            "Labels: ['ObjectNode'], Name: 'Body Composition'\n",
            "Labels: ['ObjectNode'], Name: 'Gait Speed'\n",
            "Labels: ['ObjectNode'], Name:  'Age 30 Years or Older'\n",
            "Labels: ['SubjectNode'], Name: NCT01373086\n",
            "Labels: ['ObjectNode'], Name: 'LFF269'\n",
            "Labels: ['ObjectNode'], Name: DBP'\n",
            "Labels: ['ObjectNode'], Name: BP response'\n",
            "Labels: ['ObjectNode'], Name: Essential Hypertension'\n",
            "Labels: ['SubjectNode'], Name: NCT01683266\n",
            "Labels: ['ObjectNode'], Name: 'Type 1 Diabetes Mellitus'\n",
            "Labels: ['ObjectNode'], Name: 'Insulin Glargine'\n",
            "Labels: ['ObjectNode'], Name: 'Change In HbA1c'\n",
            "Labels: ['ObjectNode'], Name: 'Participant HbA1c <7%'\n",
            "Labels: ['ObjectNode'], Name: no diabetes'\n",
            "Labels: ['SubjectNode'], Name: NCT03114657\n",
            "Labels: ['ObjectNode'], Name: 'Alzheimer's Disease'\n",
            "Labels: ['ObjectNode'], Name: 'Crenezumab'\n",
            "Labels: ['ObjectNode'], Name: 'CDR-SB Scale Score'\n",
            "Labels: ['ObjectNode'], Name: 'ADAS-Cog-13 Subscale'\n",
            "Labels: ['ObjectNode'], Name:  'None'\n",
            "Labels: ['SubjectNode'], Name: NCT02791958\n",
            "Labels: ['ObjectNode'], Name: 'Cardiovascular (CV) disease'\n",
            "Labels: ['ObjectNode'], Name: Acetylsalicylic Acid'\n",
            "Labels: ['ObjectNode'], Name: 'Difference in systolic blood pressure'\n",
            "Labels: ['ObjectNode'], Name: 'LDL cholesterol levels'\n",
            "Labels: ['SubjectNode'], Name: NCT02972658\n",
            "Labels: ['ObjectNode'], Name: 'Lanabecestat (LY3314814)'\n",
            "Labels: ['ObjectNode'], Name: 'ADCS-iADL Score'\n",
            "Labels: ['SubjectNode'], Name: NCT01399125\n",
            "Labels: ['ObjectNode'], Name: 'Rivastigmine Patch'\n",
            "Labels: ['ObjectNode'], Name: 'Change in Cognition'\n",
            "Labels: ['ObjectNode'], Name: 'Change in Global Functioning'\n",
            "Labels: ['SubjectNode'], Name: NCT03100058\n",
            "Labels: ['ObjectNode'], Name: 'Obesity'\n",
            "Labels: ['ObjectNode'], Name: 'LIK066'\n",
            "Labels: ['ObjectNode'], Name: 'Weight change at 24 weeks'\n",
            "Labels: ['ObjectNode'], Name: 'Waist circumference change'\n"
          ]
        },
        {
          "output_type": "stream",
          "name": "stderr",
          "text": [
            "<ipython-input-51-4a940ca6ab8e>:16: DeprecationWarning: read_transaction has been renamed to execute_read\n",
            "  nodes = session.read_transaction(fetch_nodes)\n"
          ]
        }
      ]
    },
    {
      "cell_type": "code",
      "source": [
        "def is_graph_projected(tx):\n",
        "    query = \"\"\"\n",
        "    CALL gds.graph.exists('clinicalTrialsGraph')\n",
        "    YIELD exists\n",
        "    RETURN exists\n",
        "    \"\"\"\n",
        "    result = tx.run(query)\n",
        "    return result.single()[\"exists\"]\n",
        "\n",
        "# Function to project the graph\n",
        "def project_graph(tx):\n",
        "    query = \"\"\"\n",
        "    CALL gds.graph.project(\n",
        "        'clinicalTrialsGraph',\n",
        "        ['SubjectNode', 'ObjectNode'],\n",
        "        {\n",
        "            INVOLVES: {orientation: 'UNDIRECTED'},\n",
        "            EVALUATES: {orientation: 'UNDIRECTED'},\n",
        "            MEASURES_PRIMARY: {orientation: 'UNDIRECTED'},\n",
        "            MEASURES_SECONDARY: {orientation: 'UNDIRECTED'},\n",
        "            HAS_CRITERIA: {orientation: 'UNDIRECTED'}\n",
        "        }\n",
        "    )\n",
        "    \"\"\"\n",
        "    tx.run(query)\n",
        "    print(\"Graph successfully projected with undirected relationships.\")\n",
        "\n",
        "# Function to drop and re-project the graph\n",
        "def reproject_graph(tx):\n",
        "    query = \"\"\"\n",
        "    CALL gds.graph.drop('clinicalTrialsGraph', false)\n",
        "    \"\"\"\n",
        "    tx.run(query)\n",
        "    print(\"Dropped existing graph projection.\")\n",
        "    project_graph(tx)\n",
        "    print(\"Graph re-projected successfully.\")\n",
        "\n",
        "# Function to find similar trials using GDS node similarity\n",
        "def find_similar_trials(tx, trial_id):\n",
        "    query = f\"\"\"\n",
        "    CALL gds.nodeSimilarity.stream('clinicalTrialsGraph')\n",
        "    YIELD node1, node2, similarity\n",
        "    WHERE gds.util.asNode(node1).name = $trial_id\n",
        "      AND gds.util.asNode(node1):SubjectNode\n",
        "      AND gds.util.asNode(node2):SubjectNode\n",
        "    RETURN gds.util.asNode(node2).name AS similarTrial, similarity\n",
        "    ORDER BY similarity DESC\n",
        "    LIMIT 10\n",
        "    \"\"\"\n",
        "    print(f\"Executing similarity query for trial ID: {trial_id}\")\n",
        "    result = tx.run(query, trial_id=trial_id)\n",
        "    results = [{\"trial\": record[\"similarTrial\"], \"similarity\": record[\"similarity\"]} for record in result]\n",
        "    print(f\"Results: {results}\")\n",
        "    return results\n",
        "\n",
        "# Function to check if a node exists in the graph\n",
        "def check_node_exists(tx, node_name, label):\n",
        "    query = f\"\"\"\n",
        "    MATCH (n:{label} {{name: TRIM($node_name)}})\n",
        "    RETURN COUNT(n) > 0 AS exists\n",
        "    \"\"\"\n",
        "    print(f\"Checking existence of node: {node_name.strip()}\")\n",
        "    result = tx.run(query, node_name=node_name.strip())\n",
        "    exists = result.single()[\"exists\"]\n",
        "    print(f\"Node exists: {exists}\")\n",
        "    return exists\n",
        "\n",
        "# Main script to query for similar trials\n",
        "def main():\n",
        "    driver = GraphDatabase.driver(URI, auth=AUTH)\n",
        "\n",
        "    with driver.session() as session:\n",
        "        # Re-project the graph to ensure the correct structure\n",
        "        reproject_graph(session)\n",
        "\n",
        "        # Get input from user\n",
        "        trial_id = input(\"Enter the trial ID (e.g., NCT00752622): \")\n",
        "\n",
        "        # Check if the node exists\n",
        "        node_exists = session.read_transaction(check_node_exists, trial_id, 'SubjectNode')\n",
        "        if not node_exists:\n",
        "            print(f\"Node '{trial_id}' does not exist in the graph. Please enter a valid trial ID.\")\n",
        "            return\n",
        "\n",
        "        # Find similar trials\n",
        "        print(f\"Finding trials similar to {trial_id}...\")\n",
        "        similar_trials = session.read_transaction(find_similar_trials, trial_id)\n",
        "\n",
        "        if similar_trials:\n",
        "            print(\"Top 10 similar trials:\")\n",
        "            for i, trial in enumerate(similar_trials, 1):\n",
        "                print(f\"{i}. Trial ID: {trial['trial']}, Similarity: {trial['similarity']:.4f}\")\n",
        "        else:\n",
        "            print(\"No similar trials found.\")\n",
        "    driver.close()\n",
        "\n",
        "if __name__ == \"__main__\":\n",
        "    main()"
      ],
      "metadata": {
        "colab": {
          "base_uri": "https://localhost:8080/"
        },
        "id": "k5QPZfFKX15L",
        "outputId": "d53c14e0-0cc6-4214-d8c5-9bb6c994ec8f"
      },
      "execution_count": 62,
      "outputs": [
        {
          "output_type": "stream",
          "name": "stderr",
          "text": [
            "WARNING:neo4j.notifications:Received notification from DBMS server: {severity: WARNING} {code: Neo.ClientNotification.Statement.FeatureDeprecationWarning} {category: DEPRECATION} {title: This feature is deprecated and will be removed in future versions.} {description: The query used a deprecated field from a procedure. ('schema' returned by 'gds.graph.drop' is deprecated.)} {position: line: 2, column: 1, offset: 5} for query: \"\\n    CALL gds.graph.drop('clinicalTrialsGraph', false)\\n    \"\n"
          ]
        },
        {
          "output_type": "stream",
          "name": "stdout",
          "text": [
            "Dropped existing graph projection.\n",
            "Graph successfully projected with undirected relationships.\n",
            "Graph re-projected successfully.\n",
            "Enter the trial ID (e.g., NCT00752622): NCT01399125\n",
            "Checking existence of node: NCT01399125\n",
            "Node exists: True\n",
            "Finding trials similar to NCT01399125...\n",
            "Executing similarity query for trial ID: NCT01399125\n",
            "Results: [{'trial': 'NCT03114657', 'similarity': 0.25}, {'trial': 'NCT02972658', 'similarity': 0.14285714285714285}, {'trial': 'NCT02791958', 'similarity': 0.1111111111111111}]\n",
            "Top 10 similar trials:\n",
            "1. Trial ID: NCT03114657, Similarity: 0.2500\n",
            "2. Trial ID: NCT02972658, Similarity: 0.1429\n",
            "3. Trial ID: NCT02791958, Similarity: 0.1111\n"
          ]
        },
        {
          "output_type": "stream",
          "name": "stderr",
          "text": [
            "<ipython-input-62-39c2aca5816c>:80: DeprecationWarning: read_transaction has been renamed to execute_read\n",
            "  node_exists = session.read_transaction(check_node_exists, trial_id, 'SubjectNode')\n",
            "<ipython-input-62-39c2aca5816c>:87: DeprecationWarning: read_transaction has been renamed to execute_read\n",
            "  similar_trials = session.read_transaction(find_similar_trials, trial_id)\n"
          ]
        }
      ]
    },
    {
      "cell_type": "code",
      "source": [],
      "metadata": {
        "id": "k_zpjHOVa2GT"
      },
      "execution_count": 58,
      "outputs": []
    },
    {
      "cell_type": "code",
      "source": [],
      "metadata": {
        "id": "zys05QDaa6sk"
      },
      "execution_count": null,
      "outputs": []
    }
  ]
}
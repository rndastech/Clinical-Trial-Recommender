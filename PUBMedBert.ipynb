{
 "cells": [
  {
   "cell_type": "code",
   "execution_count": null,
   "metadata": {
    "vscode": {
     "languageId": "plaintext"
    }
   },
   "outputs": [],
   "source": [
    "import pandas as pd\n",
    "from transformers import BertTokenizer, BertModel\n",
    "import torch\n",
    "from tqdm import tqdm\n",
    "\n",
    "# Load the CSV data\n",
    "csv_path = \"/kaggle/input/trialscsv/trials.csv\"\n",
    "data = pd.read_csv(csv_path)\n",
    "print(\"CSV file loaded successfully.\")\n",
    "\n",
    "# Columns to generate embeddings for\n",
    "columns_to_embed = ['Study Title', 'Primary Outcome Measures', 'Secondary Outcome Measures', 'criteria']\n",
    "\n",
    "# Load PubMed BERT tokenizer and model\n",
    "tokenizer = BertTokenizer.from_pretrained(\"microsoft/BiomedNLP-PubMedBERT-base-uncased-abstract\")\n",
    "model = BertModel.from_pretrained(\"microsoft/BiomedNLP-PubMedBERT-base-uncased-abstract\")\n",
    "print(\"PubMed BERT model and tokenizer loaded.\")\n",
    "\n",
    "# Check GPU availability\n",
    "device = torch.device(\"cuda\" if torch.cuda.is_available() else \"cpu\")\n",
    "print(f\"Using device: {device}\")\n",
    "model = model.to(device)\n",
    "\n",
    "# Function to generate embeddings\n",
    "def generate_embeddings(text, tokenizer, model):\n",
    "    inputs = tokenizer(text, return_tensors=\"pt\", truncation=True, padding=True, max_length=512)\n",
    "    inputs = {key: value.to(device) for key, value in inputs.items()}\n",
    "    with torch.no_grad():\n",
    "        outputs = model(**inputs)\n",
    "    return outputs.last_hidden_state.mean(dim=1).squeeze().cpu().numpy()\n",
    "\n",
    "# Create a DataFrame to store embeddings\n",
    "embedding_data = []\n",
    "nct_numbers = []\n",
    "\n",
    "# Process the entire dataset\n",
    "print(\"Processing all nodes...\")\n",
    "for idx, (index, row) in enumerate(tqdm(data.iterrows(), total=data.shape[0]), start=1):\n",
    "    combined_text = \" \".join([str(row[col]) for col in columns_to_embed if pd.notna(row[col])])\n",
    "    embedding = generate_embeddings(combined_text, tokenizer, model)\n",
    "    embedding_data.append(embedding)\n",
    "    nct_numbers.append(row['NCT Number'])\n",
    "\n",
    "    # Print progress every 10 rows\n",
    "    if idx % 10 == 0:\n",
    "        print(f\"Processed {idx} rows...\")\n",
    "\n",
    "# Convert embeddings to DataFrame and preserve NCT Number\n",
    "embedding_df = pd.DataFrame(embedding_data)\n",
    "embedding_df.insert(0, 'NCT Number', nct_numbers)\n",
    "\n",
    "# Save to CSV\n",
    "output_csv_path = \"embeddings_output.csv\"\n",
    "embedding_df.to_csv(output_csv_path, index=False)\n",
    "print(f\"Embeddings saved to {output_csv_path}\")\n"
   ]
  }
 ],
 "metadata": {
  "language_info": {
   "name": "python"
  }
 },
 "nbformat": 4,
 "nbformat_minor": 2
}

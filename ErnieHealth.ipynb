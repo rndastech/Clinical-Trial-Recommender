{
 "cells": [
  {
   "cell_type": "code",
   "execution_count": null,
   "metadata": {
    "vscode": {
     "languageId": "plaintext"
    }
   },
   "outputs": [],
   "source": [
    "import pandas as pd\n",
    "from transformers import AutoTokenizer, AutoModel\n",
    "import torch\n",
    "from tqdm import tqdm\n",
    "\n",
    "# Load the CSV data\n",
    "csv_path = \"/kaggle/input/trialscsv/trials.csv\"\n",
    "data = pd.read_csv(csv_path)\n",
    "print(\"CSV file loaded successfully.\")\n",
    "\n",
    "# Columns to generate embeddings for\n",
    "columns_to_embed = ['Study Title', 'Primary Outcome Measures', 'Secondary Outcome Measures', 'criteria']\n",
    "\n",
    "# Load PubMed BERT tokenizer and model\n",
    "tokenizer = AutoTokenizer.from_pretrained(\"nghuyong/ernie-health-zh\")\n",
    "model = AutoModel.from_pretrained(\"nghuyong/ernie-health-zh\")\n",
    "print(\"ernie-health kaam pe lag gaya\")\n",
    "\n",
    "# Check GPU availability\n",
    "device = torch.device(\"cuda\" if torch.cuda.is_available() else \"cpu\")\n",
    "print(f\"Using device: {device}\")\n",
    "model = model.to(device)\n",
    "\n",
    "# Function to generate embeddings for a batch of texts\n",
    "def generate_batch_embeddings(texts, tokenizer, model, batch_size=8):\n",
    "    all_embeddings = []\n",
    "    for i in range(0, len(texts), batch_size):\n",
    "        batch_texts = texts[i:i+batch_size]\n",
    "        inputs = tokenizer(batch_texts, return_tensors=\"pt\", padding=True, truncation=True, max_length=512)\n",
    "        inputs = {key: value.to(device) for key, value in inputs.items()}\n",
    "        with torch.no_grad():\n",
    "            outputs = model(**inputs)\n",
    "        batch_embeddings = outputs.last_hidden_state.mean(dim=1).cpu().numpy()  # Mean pooling\n",
    "        all_embeddings.extend(batch_embeddings)\n",
    "    return all_embeddings\n",
    "\n",
    "# Prepare the data for processing\n",
    "texts_to_embed = data[columns_to_embed].apply(lambda row: \" \".join([str(row[col]) for col in columns_to_embed if pd.notna(row[col])]), axis=1)\n",
    "nct_numbers = data['NCT Number'].tolist()\n",
    "\n",
    "# Create a DataFrame to store embeddings\n",
    "embedding_data = []\n",
    "\n",
    "# Process the entire dataset in batches\n",
    "total_rows = len(data)\n",
    "batch_size = 16  # Adjust batch size based on available GPU memory\n",
    "\n",
    "# Process in batches\n",
    "for i in tqdm(range(0, total_rows, batch_size), total=total_rows//batch_size):\n",
    "    batch_texts = texts_to_embed[i:i+batch_size].tolist()\n",
    "    batch_embeddings = generate_batch_embeddings(batch_texts, tokenizer, model, batch_size)\n",
    "    embedding_data.extend(batch_embeddings)\n",
    "\n",
    "    # Print progress every 10 batches processed\n",
    "    if (i + batch_size) % 10 == 0:\n",
    "        print(f\"Processed {i + batch_size}/{total_rows} rows.\")\n",
    "\n",
    "# Convert embeddings to DataFrame and preserve NCT Number\n",
    "embedding_df = pd.DataFrame(embedding_data)\n",
    "embedding_df.insert(0, 'NCT Number', nct_numbers)\n",
    "\n",
    "# Save to CSV\n",
    "output_csv_path = \"embeddings_output2.csv\"\n",
    "embedding_df.to_csv(output_csv_path, index=False)\n",
    "print(f\"Embeddings saved to {output_csv_path}\")"
   ]
  }
 ],
 "metadata": {
  "language_info": {
   "name": "python"
  }
 },
 "nbformat": 4,
 "nbformat_minor": 2
}
